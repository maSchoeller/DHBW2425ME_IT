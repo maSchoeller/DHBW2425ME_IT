{
 "cells": [
  {
   "cell_type": "markdown",
   "metadata": {},
   "source": [
    "# Variablen anlegen\n",
    "Mutability\n",
    "\n",
    "age = 42\n",
    "print(age)\n",
    "age = 43\n",
    "print(age) "
   ]
  },
  {
   "cell_type": "code",
   "execution_count": 11,
   "metadata": {},
   "outputs": [
    {
     "name": "stdout",
     "output_type": "stream",
     "text": [
      "42\n",
      "43\n"
     ]
    }
   ],
   "source": [
    "age = 42\n",
    "print(age)\n",
    "age = 43\n",
    "print(age) "
   ]
  },
  {
   "cell_type": "code",
   "execution_count": 13,
   "metadata": {},
   "outputs": [
    {
     "name": "stdout",
     "output_type": "stream",
     "text": [
      "140709696899272\n",
      "140709696899304\n"
     ]
    }
   ],
   "source": [
    "age = 42\n",
    "print(id(age))\n",
    "age = 43\n",
    "print(id(age))"
   ]
  },
  {
   "cell_type": "code",
   "execution_count": null,
   "metadata": {},
   "outputs": [
    {
     "name": "stdout",
     "output_type": "stream",
     "text": [
      "set()\n",
      "2616683713408\n",
      "2616683713408\n",
      "{3, 13, 7}\n"
     ]
    }
   ],
   "source": [
    "numbers = set()\n",
    "print(numbers)\n",
    "print(id(numbers))\n",
    "\n",
    "numbers.add(3)\n",
    "numbers.add(7)\n",
    "numbers.add(13)\n",
    "print(id(numbers))\n",
    "print(numbers)"
   ]
  },
  {
   "cell_type": "code",
   "execution_count": null,
   "metadata": {},
   "outputs": [
    {
     "name": "stdout",
     "output_type": "stream",
     "text": [
      "17\n",
      "11\n",
      "42\n",
      "4.666666666666667\n",
      "4\n",
      "2\n",
      "2744\n"
     ]
    }
   ],
   "source": [
    "a = 14\n",
    "b = 3\n",
    "\n",
    "print(a + b)\n",
    "print(a - b)    \n",
    "print(a * b)\n",
    "print(a / b)\n",
    "print(a // b)\n",
    "print(a % b)\n",
    "print(a ** b)"
   ]
  },
  {
   "cell_type": "code",
   "execution_count": null,
   "metadata": {},
   "outputs": [],
   "source": [
    "a = -7\n",
    "b = 4\n",
    "\n",
    "print(a + b)\n",
    "print(a - b)    \n",
    "print(a * b)\n",
    "print(a / b)\n",
    "print(a // b)\n",
    "print(a % b)\n",
    "print(a ** b)"
   ]
  },
  {
   "cell_type": "code",
   "execution_count": 18,
   "metadata": {},
   "outputs": [
    {
     "data": {
      "text/plain": [
       "22"
      ]
     },
     "execution_count": 18,
     "metadata": {},
     "output_type": "execute_result"
    }
   ],
   "source": [
    "int('10110', base=2)"
   ]
  },
  {
   "cell_type": "code",
   "execution_count": 20,
   "metadata": {},
   "outputs": [
    {
     "name": "stdout",
     "output_type": "stream",
     "text": [
      "1\n",
      "0\n",
      "True\n",
      "True\n",
      "False\n",
      "False\n",
      "True\n",
      "True\n",
      "True\n"
     ]
    }
   ],
   "source": [
    "print(int(True))  # True behaves like 1\n",
    "print(int(False))  # False behaves like 0\n",
    "print(bool(1))  # 1 evaluates to True in a Boolean context\n",
    "\n",
    "print(bool(-42))  # and so does every non-zero number\n",
    "\n",
    "print(bool(0))  # 0 evaluates to False\n",
    "\n",
    "# quick peek at the operators (and, or, not)\n",
    "print(not True)\n",
    "print(not False)\n",
    "print(True and True)\n",
    "print(False or True)"
   ]
  },
  {
   "cell_type": "code",
   "execution_count": 21,
   "metadata": {},
   "outputs": [
    {
     "data": {
      "text/plain": [
       "sys.float_info(max=1.7976931348623157e+308, max_exp=1024, max_10_exp=308, min=2.2250738585072014e-308, min_exp=-1021, min_10_exp=-307, dig=15, mant_dig=53, epsilon=2.220446049250313e-16, radix=2, rounds=1)"
      ]
     },
     "execution_count": 21,
     "metadata": {},
     "output_type": "execute_result"
    }
   ],
   "source": [
    "import sys\n",
    "sys.float_info"
   ]
  },
  {
   "cell_type": "code",
   "execution_count": 22,
   "metadata": {},
   "outputs": [
    {
     "data": {
      "text/plain": [
       "-5.551115123125783e-17"
      ]
     },
     "execution_count": 22,
     "metadata": {},
     "output_type": "execute_result"
    }
   ],
   "source": [
    "0.3 - 0.1 * 3 "
   ]
  }
 ],
 "metadata": {
  "kernelspec": {
   "display_name": "lpp4ed",
   "language": "python",
   "name": "python3"
  },
  "language_info": {
   "codemirror_mode": {
    "name": "ipython",
    "version": 3
   },
   "file_extension": ".py",
   "mimetype": "text/x-python",
   "name": "python",
   "nbconvert_exporter": "python",
   "pygments_lexer": "ipython3",
   "version": "3.13.1"
  }
 },
 "nbformat": 4,
 "nbformat_minor": 2
}
