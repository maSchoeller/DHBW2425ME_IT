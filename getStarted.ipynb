{
 "cells": [
  {
   "cell_type": "code",
   "execution_count": 27,
   "metadata": {},
   "outputs": [],
   "source": [
    "myFirstInteger = 30\n",
    "print(30)"
   ]
  },
  {
   "cell_type": "code",
   "execution_count": 36,
   "metadata": {},
   "outputs": [
    {
     "name": "stdout",
     "output_type": "stream",
     "text": [
      "3\n",
      "5\n",
      "8\n",
      "2.3333333333333335\n",
      "3\n",
      "2\n",
      "27\n"
     ]
    }
   ],
   "source": [
    "print(1+2) # Addieren\n",
    "print(10-5) # Subtrahieren\n",
    "print(2*4) # Multiplizieren \n",
    "print(7/3) # Teilen\n",
    "print(17//5) # Teilen Ergbnis ist Ganzzahl\n",
    "print(17%5) # Teilen Ergbenis ist der Rest\n",
    "print(3**3) # Potenzieren"
   ]
  },
  {
   "cell_type": "code",
   "execution_count": 43,
   "metadata": {},
   "outputs": [
    {
     "name": "stdout",
     "output_type": "stream",
     "text": [
      "5\n"
     ]
    }
   ],
   "source": [
    "myFirstInteger = 15\n",
    "mySecondInteger = 10\n",
    "e = myFirstInteger - mySecondInteger # zwei Variablen subtrahiert und in die Variable e gespeichert\n",
    "print(e)"
   ]
  },
  {
   "cell_type": "code",
   "execution_count": 56,
   "metadata": {},
   "outputs": [
    {
     "name": "stdout",
     "output_type": "stream",
     "text": [
      "62\n"
     ]
    }
   ],
   "source": [
    "age = 42\n",
    "age = age + 10\n",
    "age += 10\n",
    "print(age)"
   ]
  },
  {
   "cell_type": "code",
   "execution_count": 58,
   "metadata": {},
   "outputs": [
    {
     "name": "stdout",
     "output_type": "stream",
     "text": [
      "42\n",
      "97600698670280\n",
      "43\n",
      "97600698670312\n"
     ]
    }
   ],
   "source": [
    "age = 42\n",
    "print(age) # Gibt den Inhalt des Speichers aus\n",
    "print(id(age)) # Gibt die Adresse des Speichers aus nicht den Inhalt\n",
    "\n",
    "age = 43\n",
    "print(age)\n",
    "print(id(age)) # Gibt die Adresse des Speichers aus nicht den Inhalt"
   ]
  },
  {
   "cell_type": "code",
   "execution_count": 71,
   "metadata": {},
   "outputs": [
    {
     "name": "stdout",
     "output_type": "stream",
     "text": [
      "137062245635392\n",
      "{4, 5}\n",
      "137062245635392\n",
      "137062245638304\n"
     ]
    }
   ],
   "source": [
    "myList = set() # Erstellen einer Liste\n",
    "print(id(myList))\n",
    "myList.add(3) # Wert 3 in die Liste hinzufügen\n",
    "myList.add(4) # Wert 4 in die Liste hinzufügen\n",
    "myList.add(5) # Wert 5 in die Liste hinzufügen\n",
    "myList.remove(3) # Wert 3 in die Liste entfernen\n",
    "print(myList)\n",
    "print(id(myList))\n",
    "myList = set()\n",
    "print(id(myList))"
   ]
  },
  {
   "cell_type": "code",
   "execution_count": 84,
   "metadata": {},
   "outputs": [
    {
     "name": "stdout",
     "output_type": "stream",
     "text": [
      "1\n",
      "1.75\n",
      "3,41marvin\n"
     ]
    }
   ],
   "source": [
    "t1 = int(1.75)\n",
    "print(t1)\n",
    "t1 = 1.75\n",
    "print(t1)\n",
    "t1 = \"3,41\" + \"marvin\"\n",
    "print(t1)"
   ]
  },
  {
   "cell_type": "code",
   "execution_count": 95,
   "metadata": {},
   "outputs": [
    {
     "name": "stdout",
     "output_type": "stream",
     "text": [
      "1048575\n",
      "1048675\n"
     ]
    }
   ],
   "source": [
    "t2 = int(\"fffff\", base=16) # 0 1 2 3 4 5 6 7 8 9 A  B  C  D  E  F \n",
    "                           # 0 1 2 3 4 5 6 7 8 9 10 11 12 13 14 15\n",
    "print(t2)\n",
    "t2 = t2 + 100\n",
    "print(t2)"
   ]
  },
  {
   "cell_type": "code",
   "execution_count": 96,
   "metadata": {},
   "outputs": [
    {
     "data": {
      "text/plain": [
       "sys.float_info(max=1.7976931348623157e+308, max_exp=1024, max_10_exp=308, min=2.2250738585072014e-308, min_exp=-1021, min_10_exp=-307, dig=15, mant_dig=53, epsilon=2.220446049250313e-16, radix=2, rounds=1)"
      ]
     },
     "execution_count": 96,
     "metadata": {},
     "output_type": "execute_result"
    }
   ],
   "source": [
    "import sys\n",
    "\n",
    "sys.float_info"
   ]
  },
  {
   "cell_type": "code",
   "execution_count": 120,
   "metadata": {},
   "outputs": [
    {
     "name": "stdout",
     "output_type": "stream",
     "text": [
      "False\n",
      "-5.551115123125783e-17\n",
      "True\n"
     ]
    }
   ],
   "source": [
    "print(0.3 - (0.1 * 3) == 0)\n",
    "print(0.3 - (0.1 * 3))\n",
    "print(0.3 - (0.1 * 3) > -0.1 and 0.3 - (0.1 * 3) < 0.1)"
   ]
  },
  {
   "cell_type": "code",
   "execution_count": 118,
   "metadata": {},
   "outputs": [
    {
     "name": "stdout",
     "output_type": "stream",
     "text": [
      "1\n",
      "0\n",
      "True\n",
      "False\n",
      "True\n",
      "True\n",
      "\n",
      "False\n",
      "True\n",
      "True\n",
      "True\n"
     ]
    }
   ],
   "source": [
    "print(int(True))\n",
    "print(int(False))\n",
    "print(bool(1))\n",
    "print(bool(0))\n",
    "print(bool(-10))\n",
    "print(bool(10))\n",
    "\n",
    "print()\n",
    "print(not True)\n",
    "print(not False)\n",
    "print(True or False)\n",
    "print(True and False)\n"
   ]
  },
  {
   "cell_type": "code",
   "execution_count": 125,
   "metadata": {},
   "outputs": [
    {
     "name": "stdout",
     "output_type": "stream",
     "text": [
      "3.14\n",
      "2.73\n",
      "(3.14-2.73j)\n"
     ]
    }
   ],
   "source": [
    "c = complex(3.14,2.73)\n",
    "print(c.real)\n",
    "print(c.imag)\n",
    "print(c.conjugate())"
   ]
  },
  {
   "cell_type": "code",
   "execution_count": 130,
   "metadata": {},
   "outputs": [
    {
     "name": "stdout",
     "output_type": "stream",
     "text": [
      "Hallo \n",
      " Welt\n"
     ]
    }
   ],
   "source": [
    "str = \"Hallo \\n Welt\"\n",
    "str1 = 'Hallo Welt'\n",
    "str2 = \"\"\"Hallo\n",
    "\n",
    "Welt\"\"\"\n",
    "str3 = '''Hallo\n",
    "\n",
    "Welt'''\n",
    "print(str)"
   ]
  }
 ],
 "metadata": {
  "kernelspec": {
   "display_name": "Python 3",
   "language": "python",
   "name": "python3"
  },
  "language_info": {
   "codemirror_mode": {
    "name": "ipython",
    "version": 3
   },
   "file_extension": ".py",
   "mimetype": "text/x-python",
   "name": "python",
   "nbconvert_exporter": "python",
   "pygments_lexer": "ipython3",
   "version": "3.12.1"
  }
 },
 "nbformat": 4,
 "nbformat_minor": 2
}
